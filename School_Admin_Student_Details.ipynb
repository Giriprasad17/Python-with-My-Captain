{
  "nbformat": 4,
  "nbformat_minor": 0,
  "metadata": {
    "colab": {
      "name": "School Admin Student Details.ipynb",
      "provenance": [],
      "collapsed_sections": [],
      "authorship_tag": "ABX9TyOv0lDWZ9PUJPGtn3ytdd1j",
      "include_colab_link": true
    },
    "kernelspec": {
      "name": "python3",
      "display_name": "Python 3"
    },
    "language_info": {
      "name": "python"
    }
  },
  "cells": [
    {
      "cell_type": "markdown",
      "metadata": {
        "id": "view-in-github",
        "colab_type": "text"
      },
      "source": [
        "<a href=\"https://colab.research.google.com/github/Giriprasad17/Python-with-My-Captain/blob/main/School_Admin_Student_Details.ipynb\" target=\"_parent\"><img src=\"https://colab.research.google.com/assets/colab-badge.svg\" alt=\"Open In Colab\"/></a>"
      ]
    },
    {
      "cell_type": "code",
      "metadata": {
        "colab": {
          "base_uri": "https://localhost:8080/"
        },
        "id": "thixGMZ5ckRl",
        "outputId": "535b0000-d5b7-4089-ec90-eb9faa875e92"
      },
      "source": [
        "#OBTAIN INFORMATIONM FROM THE USER\n",
        "\n",
        "con = True\n",
        "student_num=1\n",
        "#Define function to write as csv file\n",
        "import csv\n",
        "def write_csv(info_list): #provide the split info into the file as comma separated values(CSV)\n",
        "      with open('Student_info.csv','a',newline='') as csv_file:\n",
        "          writer =csv.writer(csv_file)\n",
        "          writer.writerow([\"Name\",\"Age\",\"Contact_info\",\"Email_ID\"])\n",
        "          writer.writerow(info_list)\n",
        "\n",
        "#declare the code after this as our entry point\n",
        "if __name__=='__main__':\n",
        "\n",
        " while(con):\n",
        "    student_info = input(\"Enter the student information in the format (name Age Contact_number Email_ID): \")\n",
        "    student_num\n",
        "    #split function\n",
        "    student_split_list = student_info.split(\" \") #split the string every time a space is observed\n",
        "    \n",
        "    #To check the enterd values manually\n",
        "    print(\"\\nThe Entered information of student number {} is-\\nNmae: {}\\nAge: {}\\nContact_info: {}\\nEmail_ID: {}\".format(student_num,student_split_list[0],student_split_list[1],student_split_list[2],student_split_list[3] ))\n",
        "\n",
        "    #Ask the user if the information printed above is true or not\n",
        "    check = input(\"\\nIs the Entered Information Correct:(y/n): \")\n",
        "    if check =='y':\n",
        "      write_csv(student_split_list)\n",
        "      student_num+=1\n",
        "      con_check =input(\"\\nEnter yes or no (y/n) if you want to enter information for another student:\")\n",
        "    \n",
        "      if (con_check == \"y\"):\n",
        "        con = True\n",
        "      elif (con_check == \"n\"): \n",
        "        con = False\n",
        "    elif check=='n':\n",
        "          print(\"\\nPlease Re-Enter the Student Information Again.\")"
      ],
      "execution_count": 8,
      "outputs": [
        {
          "output_type": "stream",
          "text": [
            "Enter the student information in the format (name Age Contact_number Email_ID): Giri 20 9567803461 apputg57@gmail.com\n",
            "\n",
            "The Entered information of student number 1 is-\n",
            "Nmae: Giri\n",
            "Age: 20\n",
            "Contact_info: 9567803461\n",
            "Email_ID: apputg57@gmail.com\n",
            "\n",
            "Is the Entered Information Correct:(y/n): y\n",
            "\n",
            "Enter yes or no (y/n) if you want to enter information for another student:y\n",
            "Enter the student information in the format (name Age Contact_number Email_ID): Giri 20 9567803461 apputg57@gmail.com\n",
            "\n",
            "The Entered information of student number 2 is-\n",
            "Nmae: Giri\n",
            "Age: 20\n",
            "Contact_info: 9567803461\n",
            "Email_ID: apputg57@gmail.com\n",
            "\n",
            "Is the Entered Information Correct:(y/n): y\n",
            "\n",
            "Enter yes or no (y/n) if you want to enter information for another student:Giri 20 9567803461 apputg57@gmail.com\n",
            "Enter the student information in the format (name Age Contact_number Email_ID): Giri 20 9567803461 apputg57@gmail.com\n",
            "\n",
            "The Entered information of student number 3 is-\n",
            "Nmae: Giri\n",
            "Age: 20\n",
            "Contact_info: 9567803461\n",
            "Email_ID: apputg57@gmail.com\n",
            "\n",
            "Is the Entered Information Correct:(y/n): y\n",
            "\n",
            "Enter yes or no (y/n) if you want to enter information for another student:n\n"
          ],
          "name": "stdout"
        }
      ]
    }
  ]
}